{
  "metadata": {
    "kernelspec": {
      "name": "python",
      "display_name": "Python (Pyodide)",
      "language": "python"
    },
    "language_info": {
      "codemirror_mode": {
        "name": "python",
        "version": 3
      },
      "file_extension": ".py",
      "mimetype": "text/x-python",
      "name": "python",
      "nbconvert_exporter": "python",
      "pygments_lexer": "ipython3",
      "version": "3.8"
    }
  },
  "nbformat_minor": 4,
  "nbformat": 4,
  "cells": [
    {
      "cell_type": "markdown",
      "source": "# Data Science Fundamentals with Python and SQL Specialization",
      "metadata": {}
    },
    {
      "cell_type": "markdown",
      "source": "# Introduction\n\nWelcome to this notebook. In this section, we will provide an overview of the objectives, the methodology, and the scope of the analysis or project that this notebook encompasses. This introductory segment is designed to give you a clear understanding of what to expect in the following sections.\n",
      "metadata": {}
    },
    {
      "cell_type": "markdown",
      "source": "## Data Science Languages\n\nIn the field of data science, several programming languages are prominently used for data analysis, machine learning, and statistical modeling. Below is a list of some of the most commonly used languages in data science:\n\n1. **Python**: Known for its simplicity and readability, Python is widely used for various data science applications due to its powerful libraries like Pandas, NumPy, Scikit-learn, and TensorFlow.\n\n2. **R**: Specifically designed for statistical analysis and visualization, R is highly favored in academia and research.\n\n3. **SQL**: Essential for data retrieval, manipulation, and management in relational databases.\n\n4. **Julia**: A newer language, gaining popularity for its high-performance capabilities in numerical and computational tasks.\n\n5. **Java**: While not as common for exploratory data analysis, Java is used in big data environments and for building scalable data science applications.\n\n6. **Scala**: Often used in conjunction with Apache Spark for handling big data processing tasks.\n\n7. **MATLAB**: Popular in engineering and scientific communities for numerical computing and algorithm development.\n\nUnderstanding these languages and their specific uses can greatly enhance data science projects and research.\n",
      "metadata": {}
    },
    {
      "cell_type": "markdown",
      "source": "# Data Science Libraries\n\nThis notebook utilizes a range of data science libraries, each tailored for specific tasks within the field. Below is a list of these libraries along with their primary purposes:\n\n1. **Pandas**: A powerful library for data manipulation and analysis, particularly useful for working with structured data.\n2. **NumPy**: Essential for numerical computing, especially known for its powerful N-dimensional array object.\n3. **Matplotlib**: A foundational plotting library for creating static, animated, and interactive visualizations in Python.\n4. **Seaborn**: Built on Matplotlib, it provides a high-level interface for drawing attractive and informative statistical graphics.\n5. **Scikit-learn**: Widely used for machine learning, including classification, regression, clustering, and dimensionality reduction.\n6. **Keras**: An open-source software library that provides a Python interface for artificial neural networks, running on top of TensorFlow.\n7. **TensorFlow**: A comprehensive, open-source platform for machine learning, known for its flexibility and support for deep learning.\n8. **PyTorch**: Popular in research settings, this library provides flexibility and dynamism for deep learning solutions.\n9. **Apache Spark**: An analytics engine for big data processing, with built-in modules for streaming, SQL, machine learning, and graph processing.\n10. **Vegas**: A visualization package for Scala and Spark, known for its ability to handle large-scale data.\n11. **BigDL**: A distributed deep learning library for Apache Spark, designed to bring native support for deep learning to Spark.\n12. **Ggplot2**: A widely-used data visualization package for the R programming language, known for its elegant and concise syntax.\n",
      "metadata": {}
    },
    {
      "cell_type": "markdown",
      "source": "## Table of Data Science Tools\n\nThis table categorizes various data science tools based on their primary functionality and usage in the field:\n\n| Category             | Tool Name        | Description                                                                                   |\n|----------------------|------------------|-----------------------------------------------------------------------------------------------|\n| Programming Languages| Python           | Versatile language with extensive libraries for data analysis, machine learning, and more.    |\n|                      | R                | Specialized in statistical analysis and data visualization.                                    |\n|                      | SQL              | Essential for database management and data querying.                                          |\n| Data Visualization   | Tableau          | Powerful tool for creating interactive and shareable dashboards.                              |\n|                      | Power BI         | Microsoft's analytics tool for business intelligence capabilities.                           |\n| Machine Learning     | TensorFlow       | Open-source library for deep learning and machine learning.                                   |\n|                      | Scikit-learn     | Widely used Python library for machine learning.                                              |\n| Big Data Processing  | Apache Hadoop    | Framework for distributed storage and processing of large data sets.                          |\n|                      | Apache Spark     | Unified analytics engine for large-scale data processing.                                     |\n| Data Wrangling       | Pandas           | Python library for data manipulation and analysis.                                            |\n|                      | Apache NiFi      | Automated data flow management tool.                                                         |\n| Statistical Analysis | SPSS             | Software package used for statistical analysis.                                              |\n|                      | STATA            | Data analysis and statistical software for research.                                         |\n| Deep Learning        | PyTorch          | Open source machine learning library based on the Torch library.                             |\n|                      | Keras            | Deep learning API written in Python, running on top of TensorFlow.                           |\n\nThis table provides a snapshot of the diverse tools available in the rapidly evolving field of data science.\n",
      "metadata": {}
    },
    {
      "cell_type": "markdown",
      "source": "# Arithmetic Expression Examples\n\nIn this section, we will explore various examples of arithmetic expressions. Arithmetic expressions are used to perform mathematical operations like addition, subtraction, multiplication, and division. These examples will demonstrate basic operations and illustrate how they can be applied in programming or mathematical computations. We'll cover:\n\n1. Addition (`+`)\n2. Subtraction (`-`)\n3. Multiplication (`*`)\n4. Division (`/`)\n5. Modulus (`%`)\n6. Exponentiation (`**`)\n\nEach example will include a brief description along with a sample calculation to clarify the concept.\n",
      "metadata": {}
    },
    {
      "cell_type": "code",
      "source": "# Multiplying and Adding Numbers\n\n# Arithmetic expression\nresult = (2 * 7) + 3\n\n# The output will be 17\nprint(\"The result is:\", result)",
      "metadata": {
        "trusted": true
      },
      "outputs": [
        {
          "name": "stdout",
          "text": "The result is: 17\n",
          "output_type": "stream"
        }
      ],
      "execution_count": 1
    },
    {
      "cell_type": "code",
      "source": "# Convert Minutes to Hours\n\n# Arithmetic expression for conversion\nhours = 200 / 60\n\n# The output will be approximately 3.33\nprint(\"200 minutes is equal to\", round(hours, 2), \"hours\")\n",
      "metadata": {
        "trusted": true
      },
      "outputs": [
        {
          "name": "stdout",
          "text": "200 minutes is equal to 3.33 hours\n",
          "output_type": "stream"
        }
      ],
      "execution_count": 3
    },
    {
      "cell_type": "markdown",
      "source": "# **Objectives**\n\n- Understand the fundamental concepts of the topic.\n- Develop practical skills through hands-on exercises.\n- Apply learned techniques to real-world scenarios.\n- Enhance problem-solving and analytical abilities.\n",
      "metadata": {}
    },
    {
      "cell_type": "markdown",
      "source": "## Author\n\n**Name**: Chandana Reddy Yalaka\n\nThis notebook has been authored by Chandana Reddy Yalaka, who brings expertise in the field and a passion for sharing knowledge. The content is tailored to provide a comprehensive and engaging learning experience.\n",
      "metadata": {}
    }
  ]
}